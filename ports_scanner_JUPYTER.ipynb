{
 "cells": [
  {
   "cell_type": "code",
   "execution_count": 29,
   "metadata": {},
   "outputs": [],
   "source": [
    "import socket"
   ]
  },
  {
   "cell_type": "code",
   "execution_count": 31,
   "metadata": {},
   "outputs": [],
   "source": [
    "host = input(\"Digite aqui o IP/Host: \")\n",
    "all_ports = [*range(0, 1025)]\n",
    "customized_ports = []"
   ]
  },
  {
   "cell_type": "code",
   "execution_count": 32,
   "metadata": {},
   "outputs": [],
   "source": [
    "def make_decision():\n",
    "    decision = int(input(\"Escolha uma opção:\\n1 - Varredura das portas padrão (0 - 1024)\\n2 - Varredura customizada (escolher portas)\"))\n",
    "    if decision == 1:\n",
    "        return 1\n",
    "    elif decision == 2:\n",
    "        return 2\n",
    "    else: \n",
    "        print(\"Não existe essa opção. Saindo...\")"
   ]
  },
  {
   "cell_type": "code",
   "execution_count": 33,
   "metadata": {},
   "outputs": [],
   "source": [
    "def make_custom_ports(ports = customized_ports):\n",
    "    custom_ports = input(\"Digite aqui o número das portas a serem escaneadas (separe por vírgula): \")\n",
    "    string_separation = custom_ports.split(\",\")\n",
    "    custom_ports_list = [int(x) for x in string_separation]\n",
    "    return custom_ports_list"
   ]
  },
  {
   "cell_type": "code",
   "execution_count": 34,
   "metadata": {},
   "outputs": [],
   "source": [
    "def all_ports_scanner(host = host, ports = all_ports):\n",
    "    for port in ports:\n",
    "        client = socket.socket(socket.AF_INET, socket.SOCK_STREAM)\n",
    "        client.settimeout(0.1)\n",
    "        code = client.connect_ex((host, port))\n",
    "        if code == 0:\n",
    "            print(port, \" is open!\")"
   ]
  },
  {
   "cell_type": "code",
   "execution_count": 35,
   "metadata": {},
   "outputs": [],
   "source": [
    "def customized_ports_scanner(host = host, ports = customized_ports):\n",
    "    for port in ports:\n",
    "        client = socket.socket(socket.AF_INET, socket.SOCK_STREAM)\n",
    "        client.settimeout(0.1)\n",
    "        code = client.connect_ex((host, port))\n",
    "        if code == 0:\n",
    "            print(port, \" is open!\")"
   ]
  },
  {
   "cell_type": "code",
   "execution_count": 38,
   "metadata": {},
   "outputs": [
    {
     "name": "stdout",
     "output_type": "stream",
     "text": [
      "135  is open!\n",
      "445  is open!\n"
     ]
    }
   ],
   "source": [
    "my_decision = make_decision()\n",
    "if my_decision == 1:\n",
    "    my_scan = all_ports_scanner(host, ports = all_ports)\n",
    "elif my_decision == 2:\n",
    "    the_ports = make_custom_ports(ports = customized_ports)\n",
    "    my_scan = customized_ports_scanner(host = host, ports = the_ports)\n",
    "else:\n",
    "    print(\"ERRO de opção de varredura!\")\n"
   ]
  }
 ],
 "metadata": {
  "kernelspec": {
   "display_name": "Python 3",
   "language": "python",
   "name": "python3"
  },
  "language_info": {
   "codemirror_mode": {
    "name": "ipython",
    "version": 3
   },
   "file_extension": ".py",
   "mimetype": "text/x-python",
   "name": "python",
   "nbconvert_exporter": "python",
   "pygments_lexer": "ipython3",
   "version": "3.11.2"
  },
  "orig_nbformat": 4
 },
 "nbformat": 4,
 "nbformat_minor": 2
}
